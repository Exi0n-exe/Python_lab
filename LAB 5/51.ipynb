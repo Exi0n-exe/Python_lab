{
 "cells": [
  {
   "cell_type": "code",
   "execution_count": 2,
   "metadata": {},
   "outputs": [
    {
     "name": "stdout",
     "output_type": "stream",
     "text": [
      "f -> 0\n",
      "c -> 100\n",
      "d -> 101\n",
      "a -> 1100\n",
      "b -> 1101\n",
      "e -> 111\n",
      "Decoded text: dd\n"
     ]
    }
   ],
   "source": [
    "import heapq\n",
    "\n",
    "class Node:\n",
    "    def __init__(self, freq, symbol, left=None, right=None):\n",
    "        self.freq = freq\n",
    "        self.symbol = symbol\n",
    "        self.left = left\n",
    "        self.right = right\n",
    "        self.huff = ''\n",
    "\n",
    "    def __lt__(self, nxt):\n",
    "        return self.freq < nxt.freq\n",
    "\n",
    "def printNodes(node, val=''):\n",
    "    newVal = val + str(node.huff)\n",
    "    if node.left:\n",
    "        printNodes(node.left, newVal)\n",
    "    if node.right:\n",
    "        printNodes(node.right, newVal)\n",
    "    if not node.left and not node.right:\n",
    "        print(f\"{node.symbol} -> {newVal}\")\n",
    "\n",
    "def decode_text(encoded_text, huffman_tree):\n",
    "    decoded_text = ''\n",
    "    current_node = huffman_tree\n",
    "\n",
    "    for bit in encoded_text:\n",
    "        if bit == '0':\n",
    "            current_node = current_node.left\n",
    "        else:\n",
    "            current_node = current_node.right\n",
    "\n",
    "        if not current_node.left and not current_node.right:\n",
    "            decoded_text += current_node.symbol\n",
    "            current_node = huffman_tree\n",
    "\n",
    "    return decoded_text\n",
    "\n",
    "chars = input(\"Enter characters: \").split(' ')\n",
    "freq = [int(i) for i in input(\"Enter frequencies: \").split(' ')]\n",
    "\n",
    "nodes = []\n",
    "\n",
    "for x in range(len(chars)):\n",
    "    heapq.heappush(nodes, Node(freq[x], chars[x]))\n",
    "\n",
    "while len(nodes) > 1:\n",
    "    left = heapq.heappop(nodes)\n",
    "    right = heapq.heappop(nodes)\n",
    "    left.huff = '0'\n",
    "    right.huff = '1'\n",
    "    new_node = Node(left.freq + right.freq, left.symbol + right.symbol, left, right)\n",
    "    heapq.heappush(nodes, new_node)\n",
    "printNodes(nodes[0])\n",
    "\n",
    "huffman_tree = nodes[0]\n",
    "\n",
    "encoded_text = input(\"Enter the encoded text: \")\n",
    "decoded_text = decode_text(encoded_text, huffman_tree)\n",
    "print(\"Decoded text:\", decoded_text)"
   ]
  }
 ],
 "metadata": {
  "kernelspec": {
   "display_name": "Python 3",
   "language": "python",
   "name": "python3"
  },
  "language_info": {
   "codemirror_mode": {
    "name": "ipython",
    "version": 3
   },
   "file_extension": ".py",
   "mimetype": "text/x-python",
   "name": "python",
   "nbconvert_exporter": "python",
   "pygments_lexer": "ipython3",
   "version": "3.10.4"
  },
  "orig_nbformat": 4
 },
 "nbformat": 4,
 "nbformat_minor": 2
}
