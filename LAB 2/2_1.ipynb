{
 "cells": [
  {
   "cell_type": "code",
   "execution_count": null,
   "metadata": {},
   "outputs": [],
   "source": [
    "class Job:\n",
    "    def __init__(self,taskId,deadline,profit):\n",
    "        self.taskId = taskId\n",
    "        self.deadline = deadline\n",
    "        self.profit = profit\n",
    "\n",
    "def schedulejobs(jobs,T):\n",
    "    profit=0\n",
    "    slot=[-1]*T\n",
    "    jobs.sort(key=lambda x: x.profit, reverse=True)\n",
    "    for job in jobs:\n",
    "        for j in reversed(range(job.deadline)):\n",
    "            slot[j]=job.taskId\n",
    "            profit += job.profit\n",
    "            break\n",
    "    \n",
    "    print('The scheduled jobs are ', list(filter(lambda x: x!=-1,slot)))\n",
    "    print('The total profit earned is ', profit)\n",
    "\n",
    "if __name__ == '__main__':\n",
    "    jobs=[Job(1,2,20),Job(2,2,15),Job(3,1,10),Job(4,3,5),Job(5,3,1)]\n",
    "    T=3\n",
    "    schedulejobs(jobs, T)"
   ]
  }
 ],
 "metadata": {
  "kernelspec": {
   "display_name": "Python 3",
   "language": "python",
   "name": "python3"
  },
  "language_info": {
   "name": "python",
   "version": "3.10.4"
  },
  "orig_nbformat": 4
 },
 "nbformat": 4,
 "nbformat_minor": 2
}
