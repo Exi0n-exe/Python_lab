{
 "cells": [
  {
   "cell_type": "code",
   "execution_count": 1,
   "metadata": {},
   "outputs": [
    {
     "name": "stdout",
     "output_type": "stream",
     "text": [
      "Maximum profit seqence of job is \n",
      "['a', 'c', 'd']\n"
     ]
    }
   ],
   "source": [
    "def printjobschedule (array, t):\n",
    "    m=len(array)\n",
    "    for j in range(m):\n",
    "        for q in range(m-1-j):\n",
    "            if array[q][2] < array[q+1][2]:\n",
    "                array[q],array[q+1]=array[q+1],array[q]\n",
    "\n",
    "    res=[False]*t\n",
    "\n",
    "    job=['-1']*t\n",
    "    for q in range(len(array)):\n",
    "        for q in range (min(t-1,array[q][1]-1),-1,-1):\n",
    "            if res[q] is False:\n",
    "                res[q]=True\n",
    "                job[q]=array[q][0]\n",
    "                break\n",
    "    print(job)\n",
    "\n",
    "array=[['a',7,202],\n",
    "       ['b',5,29],\n",
    "       ['c',6,84],\n",
    "       ['d',1,75],\n",
    "       ['e',2,43]]\n",
    "\n",
    "print(\"Maximum profit seqence of job is \")\n",
    "printjobschedule(array, 3)"
   ]
  }
 ],
 "metadata": {
  "kernelspec": {
   "display_name": "Python 3",
   "language": "python",
   "name": "python3"
  },
  "language_info": {
   "codemirror_mode": {
    "name": "ipython",
    "version": 3
   },
   "file_extension": ".py",
   "mimetype": "text/x-python",
   "name": "python",
   "nbconvert_exporter": "python",
   "pygments_lexer": "ipython3",
   "version": "3.10.4"
  },
  "orig_nbformat": 4
 },
 "nbformat": 4,
 "nbformat_minor": 2
}
